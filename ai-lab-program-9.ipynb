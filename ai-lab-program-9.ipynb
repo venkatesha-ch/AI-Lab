{
 "cells": [
  {
   "cell_type": "markdown",
   "metadata": {
    "papermill": {
     "duration": 0.005579,
     "end_time": "2020-12-14T03:51:20.624064",
     "exception": false,
     "start_time": "2020-12-14T03:51:20.618485",
     "status": "completed"
    },
    "tags": []
   },
   "source": [
    "# Convert FOL into CNF Program"
   ]
  },
  {
   "cell_type": "markdown",
   "metadata": {
    "papermill": {
     "duration": 0.004054,
     "end_time": "2020-12-14T03:51:20.632759",
     "exception": false,
     "start_time": "2020-12-14T03:51:20.628705",
     "status": "completed"
    },
    "tags": []
   },
   "source": [
    "BMS College of Engineering - Dr Kavitha Sooda <br />\n",
    "BMS College of Engineering - Prof Sowmya V <br />\n",
    "BMS College of Engineering - Prof G R Asha  <br />\n",
    "##### Class 5C"
   ]
  },
  {
   "cell_type": "markdown",
   "metadata": {
    "papermill": {
     "duration": 0.004026,
     "end_time": "2020-12-14T03:51:20.641119",
     "exception": false,
     "start_time": "2020-12-14T03:51:20.637093",
     "status": "completed"
    },
    "tags": []
   },
   "source": [
    "## Objective\n",
    "- Convert given first order logic(FOL) statement into Conjunctive Normal Form(CNF).\n",
    "\n",
    "\n"
   ]
  },
  {
   "cell_type": "code",
   "execution_count": 1,
   "metadata": {
    "execution": {
     "iopub.execute_input": "2020-12-14T03:51:20.670852Z",
     "iopub.status.busy": "2020-12-14T03:51:20.670074Z",
     "iopub.status.idle": "2020-12-14T03:51:20.673738Z",
     "shell.execute_reply": "2020-12-14T03:51:20.672955Z"
    },
    "papermill": {
     "duration": 0.026683,
     "end_time": "2020-12-14T03:51:20.673864",
     "exception": false,
     "start_time": "2020-12-14T03:51:20.647181",
     "status": "completed"
    },
    "tags": []
   },
   "outputs": [],
   "source": [
    "\n",
    "def getAttributes(string):\n",
    "    expr = '\\([^)]+\\)'\n",
    "    matches = re.findall(expr, string)\n",
    "    return [m for m in str(matches) if m.isalpha()]\n",
    "\n",
    "def getPredicates(string):\n",
    "    expr = '[a-z~]+\\([A-Za-z,]+\\)'\n",
    "    return re.findall(expr, string)\n",
    "\n",
    "def DeMorgan(sentence):\n",
    "    string = ''.join(list(sentence).copy())\n",
    "    string = string.replace('~~','')\n",
    "    flag = '[' in string\n",
    "    string = string.replace('~[','')\n",
    "    string = string.strip(']')\n",
    "    for predicate in getPredicates(string):\n",
    "        string = string.replace(predicate, f'~{predicate}')\n",
    "    s = list(string)\n",
    "    for i, c in enumerate(string):\n",
    "        if c == '|':\n",
    "            s[i] = '&'\n",
    "        elif c == '&':\n",
    "            s[i] = '|'\n",
    "    string = ''.join(s)    \n",
    "    string = string.replace('~~','')\n",
    "    return f'[{string}]' if flag else string\n",
    "\n",
    "def Skolemization(sentence):\n",
    "    SKOLEM_CONSTANTS = [f'{chr(c)}' for c in range(ord('A'), ord('Z')+1)]\n",
    "    statement = ''.join(list(sentence).copy())\n",
    "    matches = re.findall('[∀∃].', statement)\n",
    "    for match in matches[::-1]:\n",
    "        statement = statement.replace(match, '')\n",
    "        statements = re.findall('\\[\\[[^]]+\\]]', statement)\n",
    "        for s in statements:\n",
    "            statement = statement.replace(s, s[1:-1])\n",
    "        for predicate in getPredicates(statement):\n",
    "            attributes = getAttributes(predicate)\n",
    "            if ''.join(attributes).islower():\n",
    "                statement = statement.replace(match[1],SKOLEM_CONSTANTS.pop(0))\n",
    "            else:\n",
    "                aL = [a for a in attributes if a.islower()]\n",
    "                aU = [a for a in attributes if not a.islower()][0]\n",
    "                statement = statement.replace(aU, f'{SKOLEM_CONSTANTS.pop(0)}({aL[0] if len(aL) else match[1]})')\n",
    "    return statement"
   ]
  },
  {
   "cell_type": "code",
   "execution_count": 2,
   "metadata": {
    "_cell_guid": "79c7e3d0-c299-4dcb-8224-4455121ee9b0",
    "_uuid": "d629ff2d2480ee46fbb7e2d37f6b5fab8052498a",
    "execution": {
     "iopub.execute_input": "2020-12-14T03:51:20.701736Z",
     "iopub.status.busy": "2020-12-14T03:51:20.700643Z",
     "iopub.status.idle": "2020-12-14T03:51:20.703828Z",
     "shell.execute_reply": "2020-12-14T03:51:20.703261Z"
    },
    "papermill": {
     "duration": 0.025085,
     "end_time": "2020-12-14T03:51:20.703950",
     "exception": false,
     "start_time": "2020-12-14T03:51:20.678865",
     "status": "completed"
    },
    "tags": []
   },
   "outputs": [],
   "source": [
    "import re\n",
    "\n",
    "def fol_to_cnf(fol):\n",
    "    \n",
    "    statement = fol.replace(\"<=>\", \"_\")\n",
    "    while '_' in statement:\n",
    "        i = statement.index('_')\n",
    "        new_statement = '[' + statement[:i] + '=>' + statement[i+1:] + ']&['+ statement[i+1:] + '=>' + statement[:i] + ']'\n",
    "        statement = new_statement\n",
    "    statement = statement.replace(\"=>\", \"-\")\n",
    "    expr = '\\[([^]]+)\\]'\n",
    "    statements = re.findall(expr, statement)\n",
    "    for i, s in enumerate(statements):\n",
    "        if '[' in s and ']' not in s:\n",
    "            statements[i] += ']'\n",
    "    for s in statements:\n",
    "        statement = statement.replace(s, fol_to_cnf(s))\n",
    "    while '-' in statement:\n",
    "        i = statement.index('-')\n",
    "        br = statement.index('[') if '[' in statement else 0\n",
    "        new_statement = '~' + statement[br:i] + '|' + statement[i+1:]\n",
    "        statement = statement[:br] + new_statement if br > 0 else new_statement\n",
    "    while '~∀' in statement:\n",
    "        i = statement.index('~∀')\n",
    "        statement = list(statement)\n",
    "        statement[i], statement[i+1], statement[i+2] = '∃', statement[i+2], '~'\n",
    "        statement = ''.join(statement)\n",
    "    while '~∃' in statement:\n",
    "        i = statement.index('~∃')\n",
    "        s = list(statement)\n",
    "        s[i], s[i+1], s[i+2] = '∀', s[i+2], '~'\n",
    "        statement = ''.join(s)\n",
    "    statement = statement.replace('~[∀','[~∀')\n",
    "    statement = statement.replace('~[∃','[~∃')\n",
    "    expr = '(~[∀|∃].)'\n",
    "    statements = re.findall(expr, statement)\n",
    "    for s in statements:\n",
    "        statement = statement.replace(s, fol_to_cnf(s))\n",
    "    expr = '~\\[[^]]+\\]'\n",
    "    statements = re.findall(expr, statement)\n",
    "    for s in statements:\n",
    "        statement = statement.replace(s, DeMorgan(s))\n",
    "    return statement"
   ]
  },
  {
   "cell_type": "code",
   "execution_count": 3,
   "metadata": {
    "execution": {
     "iopub.execute_input": "2020-12-14T03:51:20.720794Z",
     "iopub.status.busy": "2020-12-14T03:51:20.720052Z",
     "iopub.status.idle": "2020-12-14T03:51:20.723909Z",
     "shell.execute_reply": "2020-12-14T03:51:20.723383Z"
    },
    "papermill": {
     "duration": 0.015323,
     "end_time": "2020-12-14T03:51:20.724031",
     "exception": false,
     "start_time": "2020-12-14T03:51:20.708708",
     "status": "completed"
    },
    "tags": []
   },
   "outputs": [
    {
     "name": "stdout",
     "output_type": "stream",
     "text": [
      "[~animal(y)|loves(x,y)]&[~loves(x,y)|animal(y)]\n",
      "[animal(G(x))&~loves(x,G(x))]|[loves(F(x),x)]\n",
      "[~american(x)|~weapon(y)|~sells(x,y,z)|~hostile(z)]|criminal(x)\n"
     ]
    }
   ],
   "source": [
    "print(Skolemization(fol_to_cnf(\"animal(y)<=>loves(x,y)\")))\n",
    "print(Skolemization(fol_to_cnf(\"∀x[∀y[animal(y)=>loves(x,y)]]=>[∃z[loves(z,x)]]\")))\n",
    "print(fol_to_cnf(\"[american(x)&weapon(y)&sells(x,y,z)&hostile(z)]=>criminal(x)\"))"
   ]
  }
 ],
 "metadata": {
  "kernelspec": {
   "display_name": "Python 3",
   "language": "python",
   "name": "python3"
  },
  "language_info": {
   "codemirror_mode": {
    "name": "ipython",
    "version": 3
   },
   "file_extension": ".py",
   "mimetype": "text/x-python",
   "name": "python",
   "nbconvert_exporter": "python",
   "pygments_lexer": "ipython3",
   "version": "3.7.6"
  },
  "papermill": {
   "duration": 5.075282,
   "end_time": "2020-12-14T03:51:20.837376",
   "environment_variables": {},
   "exception": null,
   "input_path": "__notebook__.ipynb",
   "output_path": "__notebook__.ipynb",
   "parameters": {},
   "start_time": "2020-12-14T03:51:15.762094",
   "version": "2.1.0"
  }
 },
 "nbformat": 4,
 "nbformat_minor": 4
}
