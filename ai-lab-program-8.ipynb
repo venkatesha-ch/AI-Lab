{
 "cells": [
  {
   "cell_type": "code",
   "execution_count": 1,
   "metadata": {
    "_cell_guid": "b1076dfc-b9ad-4769-8c92-a6c4dae69d19",
    "_uuid": "8f2839f25d086af736a60e9eeb907d3b93b6e0e5",
    "execution": {
     "iopub.execute_input": "2020-12-07T04:40:29.450618Z",
     "iopub.status.busy": "2020-12-07T04:40:29.449835Z",
     "iopub.status.idle": "2020-12-07T04:40:29.452886Z",
     "shell.execute_reply": "2020-12-07T04:40:29.452151Z"
    },
    "papermill": {
     "duration": 0.016189,
     "end_time": "2020-12-07T04:40:29.453021",
     "exception": false,
     "start_time": "2020-12-07T04:40:29.436832",
     "status": "completed"
    },
    "tags": []
   },
   "outputs": [],
   "source": [
    "import re\n",
    "\n",
    "def getAttributes(expression):\n",
    "    expression = expression.split(\"(\")[1:]\n",
    "    expression = \"(\".join(expression)\n",
    "    expression = expression[:-1]\n",
    "    expression = re.split(\"(?<!\\(.),(?!.\\))\", expression)\n",
    "    return expression"
   ]
  },
  {
   "cell_type": "code",
   "execution_count": 2,
   "metadata": {
    "_cell_guid": "79c7e3d0-c299-4dcb-8224-4455121ee9b0",
    "_uuid": "d629ff2d2480ee46fbb7e2d37f6b5fab8052498a",
    "execution": {
     "iopub.execute_input": "2020-12-07T04:40:29.473217Z",
     "iopub.status.busy": "2020-12-07T04:40:29.472365Z",
     "iopub.status.idle": "2020-12-07T04:40:29.476010Z",
     "shell.execute_reply": "2020-12-07T04:40:29.475398Z"
    },
    "papermill": {
     "duration": 0.01723,
     "end_time": "2020-12-07T04:40:29.476126",
     "exception": false,
     "start_time": "2020-12-07T04:40:29.458896",
     "status": "completed"
    },
    "tags": []
   },
   "outputs": [],
   "source": [
    "def getInitialPredicate(expression):\n",
    "    return expression.split(\"(\")[0]\n",
    "\n",
    "def isConstant(char):\n",
    "    return char.isupper() and len(char) == 1\n",
    "\n",
    "def isVariable(char):\n",
    "    return char.islower() and len(char) == 1\n",
    "\n",
    "def replaceAttributes(exp, old, new):\n",
    "    attributes = getAttributes(exp)\n",
    "    for index, val in enumerate(attributes):\n",
    "        if val == old:\n",
    "            attributes[index] = new\n",
    "    predicate = getInitialPredicate(exp)\n",
    "    return predicate + \"(\" + \",\".join(attributes) + \")\"\n",
    "\n",
    "def apply(exp, substitutions):\n",
    "    for substitution in substitutions:\n",
    "        new, old = substitution\n",
    "        exp = replaceAttributes(exp, old, new)\n",
    "    return exp"
   ]
  },
  {
   "cell_type": "code",
   "execution_count": 3,
   "metadata": {
    "execution": {
     "iopub.execute_input": "2020-12-07T04:40:29.494776Z",
     "iopub.status.busy": "2020-12-07T04:40:29.494012Z",
     "iopub.status.idle": "2020-12-07T04:40:29.497436Z",
     "shell.execute_reply": "2020-12-07T04:40:29.496884Z"
    },
    "papermill": {
     "duration": 0.016594,
     "end_time": "2020-12-07T04:40:29.497556",
     "exception": false,
     "start_time": "2020-12-07T04:40:29.480962",
     "status": "completed"
    },
    "tags": []
   },
   "outputs": [],
   "source": [
    "def checkOccurs(var, exp):\n",
    "    if exp.find(var) == -1:\n",
    "        return False\n",
    "    return True\n",
    "\n",
    "\n",
    "def getFirstPart(expression):\n",
    "    attributes = getAttributes(expression)\n",
    "    return attributes[0]\n",
    "\n",
    "\n",
    "def getRemainingPart(expression):\n",
    "    predicate = getInitialPredicate(expression)\n",
    "    attributes = getAttributes(expression)\n",
    "    newExpression = predicate + \"(\" + \",\".join(attributes[1:]) + \")\"\n",
    "    return newExpression"
   ]
  },
  {
   "cell_type": "code",
   "execution_count": 4,
   "metadata": {
    "execution": {
     "iopub.execute_input": "2020-12-07T04:40:29.521248Z",
     "iopub.status.busy": "2020-12-07T04:40:29.520511Z",
     "iopub.status.idle": "2020-12-07T04:40:29.523198Z",
     "shell.execute_reply": "2020-12-07T04:40:29.523694Z"
    },
    "papermill": {
     "duration": 0.021184,
     "end_time": "2020-12-07T04:40:29.523868",
     "exception": false,
     "start_time": "2020-12-07T04:40:29.502684",
     "status": "completed"
    },
    "tags": []
   },
   "outputs": [],
   "source": [
    "def unify(exp1, exp2):\n",
    "    if exp1 == exp2:\n",
    "        return []\n",
    "\n",
    "    if isConstant(exp1) and isConstant(exp2):\n",
    "        if exp1 != exp2:\n",
    "            return False\n",
    "\n",
    "    if isConstant(exp1):\n",
    "        return [(exp1, exp2)]\n",
    "\n",
    "    if isConstant(exp2):\n",
    "        return [(exp2, exp1)]\n",
    "\n",
    "    if isVariable(exp1):\n",
    "        if checkOccurs(exp1, exp2):\n",
    "            return False\n",
    "        else:\n",
    "            return [(exp2, exp1)]\n",
    "\n",
    "    if isVariable(exp2):\n",
    "        if checkOccurs(exp2, exp1):\n",
    "            return False\n",
    "        else:\n",
    "            return [(exp1, exp2)]\n",
    "\n",
    "    if getInitialPredicate(exp1) != getInitialPredicate(exp2):\n",
    "        print(\"Predicates do not match. Cannot be unified\")\n",
    "        return False\n",
    "\n",
    "    attributeCount1 = len(getAttributes(exp1))\n",
    "    attributeCount2 = len(getAttributes(exp2))\n",
    "    if attributeCount1 != attributeCount2:\n",
    "        return False\n",
    "\n",
    "    head1 = getFirstPart(exp1)\n",
    "    head2 = getFirstPart(exp2)\n",
    "    initialSubstitution = unify(head1, head2)\n",
    "    if not initialSubstitution:\n",
    "        return False\n",
    "    if attributeCount1 == 1:\n",
    "        return initialSubstitution\n",
    "\n",
    "    tail1 = getRemainingPart(exp1)\n",
    "    tail2 = getRemainingPart(exp2)\n",
    "\n",
    "    if initialSubstitution != []:\n",
    "        tail1 = apply(tail1, initialSubstitution)\n",
    "        tail2 = apply(tail2, initialSubstitution)\n",
    "\n",
    "    remainingSubstitution = unify(tail1, tail2)\n",
    "    if not remainingSubstitution:\n",
    "        return False\n",
    "\n",
    "    initialSubstitution.extend(remainingSubstitution)\n",
    "    return initialSubstitution"
   ]
  },
  {
   "cell_type": "code",
   "execution_count": 5,
   "metadata": {
    "execution": {
     "iopub.execute_input": "2020-12-07T04:40:29.539826Z",
     "iopub.status.busy": "2020-12-07T04:40:29.539066Z",
     "iopub.status.idle": "2020-12-07T04:40:29.542357Z",
     "shell.execute_reply": "2020-12-07T04:40:29.542860Z"
    },
    "papermill": {
     "duration": 0.014137,
     "end_time": "2020-12-07T04:40:29.542995",
     "exception": false,
     "start_time": "2020-12-07T04:40:29.528858",
     "status": "completed"
    },
    "tags": []
   },
   "outputs": [
    {
     "name": "stdout",
     "output_type": "stream",
     "text": [
      "Substitutions:\n",
      "[('A', 'y'), ('Y', 'x')]\n"
     ]
    }
   ],
   "source": [
    "exp1 = \"knows(A,x)\"\n",
    "exp2 = \"knows(y,Y)\"\n",
    "substitutions = unify(exp1, exp2)\n",
    "print(\"Substitutions:\")\n",
    "print(substitutions)"
   ]
  },
  {
   "cell_type": "code",
   "execution_count": 6,
   "metadata": {
    "execution": {
     "iopub.execute_input": "2020-12-07T04:40:29.559384Z",
     "iopub.status.busy": "2020-12-07T04:40:29.558545Z",
     "iopub.status.idle": "2020-12-07T04:40:29.562460Z",
     "shell.execute_reply": "2020-12-07T04:40:29.561618Z"
    },
    "papermill": {
     "duration": 0.014112,
     "end_time": "2020-12-07T04:40:29.562613",
     "exception": false,
     "start_time": "2020-12-07T04:40:29.548501",
     "status": "completed"
    },
    "tags": []
   },
   "outputs": [
    {
     "name": "stdout",
     "output_type": "stream",
     "text": [
      "Substitutions:\n",
      "[('A', 'y'), ('mother(y)', 'x')]\n"
     ]
    }
   ],
   "source": [
    "exp1 = \"knows(A,x)\"\n",
    "exp2 = \"knows(y,mother(y))\"\n",
    "substitutions = unify(exp1, exp2)\n",
    "print(\"Substitutions:\")\n",
    "print(substitutions)"
   ]
  }
 ],
 "metadata": {
  "kernelspec": {
   "display_name": "Python 3",
   "language": "python",
   "name": "python3"
  },
  "language_info": {
   "codemirror_mode": {
    "name": "ipython",
    "version": 3
   },
   "file_extension": ".py",
   "mimetype": "text/x-python",
   "name": "python",
   "nbconvert_exporter": "python",
   "pygments_lexer": "ipython3",
   "version": "3.7.6"
  },
  "papermill": {
   "duration": 5.395585,
   "end_time": "2020-12-07T04:40:29.676714",
   "environment_variables": {},
   "exception": null,
   "input_path": "__notebook__.ipynb",
   "output_path": "__notebook__.ipynb",
   "parameters": {},
   "start_time": "2020-12-07T04:40:24.281129",
   "version": "2.1.0"
  }
 },
 "nbformat": 4,
 "nbformat_minor": 4
}
