{
 "cells": [
  {
   "cell_type": "markdown",
   "metadata": {
    "_cell_guid": "b1076dfc-b9ad-4769-8c92-a6c4dae69d19",
    "_uuid": "8f2839f25d086af736a60e9eeb907d3b93b6e0e5",
    "papermill": {
     "duration": 0.012497,
     "end_time": "2020-10-19T05:07:15.581447",
     "exception": false,
     "start_time": "2020-10-19T05:07:15.568950",
     "status": "completed"
    },
    "tags": []
   },
   "source": [
    "# 8 Puzzle Problem"
   ]
  },
  {
   "cell_type": "markdown",
   "metadata": {
    "_cell_guid": "79c7e3d0-c299-4dcb-8224-4455121ee9b0",
    "_uuid": "d629ff2d2480ee46fbb7e2d37f6b5fab8052498a",
    "collapsed": true,
    "papermill": {
     "duration": 0.01103,
     "end_time": "2020-10-19T05:07:15.604604",
     "exception": false,
     "start_time": "2020-10-19T05:07:15.593574",
     "status": "completed"
    },
    "tags": []
   },
   "source": [
    "BMS College of Engineering - Dr Kavitha Sooda <br />\n",
    "BMS College of Engineering - Dr Nagarathna N <br />\n",
    "BMS College of Engineering - Prof G R Asha  <br />\n",
    "##### Class 5C"
   ]
  },
  {
   "cell_type": "markdown",
   "metadata": {
    "papermill": {
     "duration": 0.010995,
     "end_time": "2020-10-19T05:07:15.626932",
     "exception": false,
     "start_time": "2020-10-19T05:07:15.615937",
     "status": "completed"
    },
    "tags": []
   },
   "source": [
    "## Objective\n",
    " Given a 3×3 board with 8 tiles and one empty space \n",
    " - Move the numbers around to match the final configuration using the empty spot \n",
    " - You can slide the numbers from above, below, left and right tiles into the empty space.\n",
    "![](https://media.geeksforgeeks.org/wp-content/uploads/puzzle8init.jpg)"
   ]
  },
  {
   "cell_type": "markdown",
   "metadata": {
    "papermill": {
     "duration": 0.011128,
     "end_time": "2020-10-19T05:07:15.649445",
     "exception": false,
     "start_time": "2020-10-19T05:07:15.638317",
     "status": "completed"
    },
    "tags": []
   },
   "source": [
    "# Use A* Algorithm\n",
    "\n",
    "![](https://media.geeksforgeeks.org/wp-content/uploads/puzzle-1.jpg)"
   ]
  },
  {
   "cell_type": "code",
   "execution_count": 1,
   "metadata": {
    "execution": {
     "iopub.execute_input": "2020-10-19T05:07:15.682883Z",
     "iopub.status.busy": "2020-10-19T05:07:15.681826Z",
     "iopub.status.idle": "2020-10-19T05:07:15.684401Z",
     "shell.execute_reply": "2020-10-19T05:07:15.684932Z"
    },
    "papermill": {
     "duration": 0.024107,
     "end_time": "2020-10-19T05:07:15.685153",
     "exception": false,
     "start_time": "2020-10-19T05:07:15.661046",
     "status": "completed"
    },
    "tags": []
   },
   "outputs": [],
   "source": [
    "def H_n(state, target):\n",
    "    dist = 0\n",
    "    for i in state:\n",
    "        d1, d2 = state.index(i), target.index(i)\n",
    "        x1, y1 = d1 % 3, d1 // 3\n",
    "        x2, y2 = d2 % 3, d2 // 3\n",
    "        dist += abs(x1-x2) + abs(y1-y2)\n",
    "    return dist"
   ]
  },
  {
   "cell_type": "markdown",
   "metadata": {
    "papermill": {
     "duration": 0.011541,
     "end_time": "2020-10-19T05:07:15.708674",
     "exception": false,
     "start_time": "2020-10-19T05:07:15.697133",
     "status": "completed"
    },
    "tags": []
   },
   "source": [
    "## 1. Create the function that finds us the total estimated cost of path through node n - F(n)\n",
    "- Create a way to find cost so far to reach node n - G(n) \n",
    "- Create a heuristic function to estimate cost from n to goal - H(n)"
   ]
  },
  {
   "cell_type": "markdown",
   "metadata": {
    "papermill": {
     "duration": 0.011305,
     "end_time": "2020-10-19T05:07:15.732206",
     "exception": false,
     "start_time": "2020-10-19T05:07:15.720901",
     "status": "completed"
    },
    "tags": []
   },
   "source": [
    "## 2. Create a Search function\n",
    "### To traverse across the tree using F(n) to select the next node\n",
    "    1. Make sure it to discard visited sites\n",
    "    2. Create possible moves function\n",
    "    3. Create move generator function\n"
   ]
  },
  {
   "cell_type": "code",
   "execution_count": 2,
   "metadata": {
    "execution": {
     "iopub.execute_input": "2020-10-19T05:07:15.763441Z",
     "iopub.status.busy": "2020-10-19T05:07:15.762432Z",
     "iopub.status.idle": "2020-10-19T05:07:15.765045Z",
     "shell.execute_reply": "2020-10-19T05:07:15.765624Z"
    },
    "papermill": {
     "duration": 0.021804,
     "end_time": "2020-10-19T05:07:15.765787",
     "exception": false,
     "start_time": "2020-10-19T05:07:15.743983",
     "status": "completed"
    },
    "tags": []
   },
   "outputs": [],
   "source": [
    "def print_grid(src):\n",
    "    state = src.copy()\n",
    "    state[state.index(-1)] = ' '\n",
    "    print(\n",
    "        f\"\"\"\n",
    "{state[0]} {state[1]} {state[2]}\n",
    "{state[3]} {state[4]} {state[5]}\n",
    "{state[6]} {state[7]} {state[8]}\n",
    "        \"\"\"\n",
    "    )\n",
    "    "
   ]
  },
  {
   "cell_type": "code",
   "execution_count": 3,
   "metadata": {
    "execution": {
     "iopub.execute_input": "2020-10-19T05:07:15.798509Z",
     "iopub.status.busy": "2020-10-19T05:07:15.797561Z",
     "iopub.status.idle": "2020-10-19T05:07:15.800757Z",
     "shell.execute_reply": "2020-10-19T05:07:15.800105Z"
    },
    "papermill": {
     "duration": 0.023017,
     "end_time": "2020-10-19T05:07:15.800891",
     "exception": false,
     "start_time": "2020-10-19T05:07:15.777874",
     "status": "completed"
    },
    "tags": []
   },
   "outputs": [],
   "source": [
    "def h_n(state, target):\n",
    "    dist = 0\n",
    "    for i in state:\n",
    "        d1, d2 = state.index(i), target.index(i)\n",
    "        x1, y1 = d1 % 3, d1 // 3\n",
    "        x2, y2 = d2 % 3, d2 // 3\n",
    "        dist += abs(x1-x2) + abs(y1-y2)\n",
    "    return dist"
   ]
  },
  {
   "cell_type": "code",
   "execution_count": 4,
   "metadata": {
    "execution": {
     "iopub.execute_input": "2020-10-19T05:07:15.837783Z",
     "iopub.status.busy": "2020-10-19T05:07:15.836791Z",
     "iopub.status.idle": "2020-10-19T05:07:15.840033Z",
     "shell.execute_reply": "2020-10-19T05:07:15.839307Z"
    },
    "papermill": {
     "duration": 0.027012,
     "end_time": "2020-10-19T05:07:15.840153",
     "exception": false,
     "start_time": "2020-10-19T05:07:15.813141",
     "status": "completed"
    },
    "tags": []
   },
   "outputs": [],
   "source": [
    "def astar(src, target):\n",
    "    states = [src]\n",
    "    g = 0\n",
    "    visited_states = set()\n",
    "    while len(states):\n",
    "        print(f\"Level: {g}\")\n",
    "        moves = []\n",
    "        for state in states:\n",
    "            visited_states.add(tuple(state))\n",
    "            print_grid(state)\n",
    "            if state == target:\n",
    "                print(\"Success\")\n",
    "                return\n",
    "            moves += [move for move in possible_moves(state, visited_states) if move not in moves]\n",
    "        costs = [g + h_n(move, target) for move in moves]\n",
    "        states = [moves[i] for i in range(len(moves)) if costs[i] == min(costs)]\n",
    "        g += 1\n",
    "    print(\"Fail\")"
   ]
  },
  {
   "cell_type": "code",
   "execution_count": 5,
   "metadata": {
    "execution": {
     "iopub.execute_input": "2020-10-19T05:07:15.876695Z",
     "iopub.status.busy": "2020-10-19T05:07:15.875726Z",
     "iopub.status.idle": "2020-10-19T05:07:15.879041Z",
     "shell.execute_reply": "2020-10-19T05:07:15.878439Z"
    },
    "papermill": {
     "duration": 0.026554,
     "end_time": "2020-10-19T05:07:15.879161",
     "exception": false,
     "start_time": "2020-10-19T05:07:15.852607",
     "status": "completed"
    },
    "tags": []
   },
   "outputs": [],
   "source": [
    "def possible_moves(state, visited_states):# Add inputs if more are required\n",
    "    # Find index of empty spot and assign it to b\n",
    "    b = state.index(-1);\n",
    "    \n",
    "    #'d' for down, 'u' for up, 'r' for right, 'l' for left - directions array\n",
    "    d = []\n",
    "                                    \n",
    "    #Add all possible direction into directions array - Hint using if statements\n",
    "    if b - 3 in range(9): \n",
    "        d.append('u')\n",
    "    if b not in [0,3,6]: \n",
    "        d.append('l')\n",
    "    if b not in [2,5,8]: \n",
    "        d.append('r')\n",
    "    if b + 3 in range(9): \n",
    "        d.append('d')\n",
    "    \n",
    "    # If direction is possible then add state to move\n",
    "    pos_moves = []\n",
    "    \n",
    "    # for all possible directions find the state if that move is played\n",
    "    ### Jump to gen function to generate all possible moves in the given directions\n",
    "    for move in d:\n",
    "        pos_moves.append(gen(state, move, b))\n",
    "    \n",
    "    # return all possible moves only if the move not in visited_states\n",
    "    return [move for move in pos_moves if tuple(move) not in visited_states]\n"
   ]
  },
  {
   "cell_type": "code",
   "execution_count": 6,
   "metadata": {
    "execution": {
     "iopub.execute_input": "2020-10-19T05:07:15.916157Z",
     "iopub.status.busy": "2020-10-19T05:07:15.915118Z",
     "iopub.status.idle": "2020-10-19T05:07:15.918289Z",
     "shell.execute_reply": "2020-10-19T05:07:15.917673Z"
    },
    "papermill": {
     "duration": 0.026023,
     "end_time": "2020-10-19T05:07:15.918425",
     "exception": false,
     "start_time": "2020-10-19T05:07:15.892402",
     "status": "completed"
    },
    "tags": []
   },
   "outputs": [],
   "source": [
    "def gen(state, m, b):\n",
    "    # m(move) is direction to slide, b(blank) is index of empty spot\n",
    "    # create a copy of current state to test the move\n",
    "    temp = state.copy()                              \n",
    "    \n",
    "    # if move is to slide empty spot to the left and so on\n",
    "    if m == 'u': \n",
    "        temp[b-3] , temp[b] = temp[b], temp[b-3]\n",
    "    if m == 'l': \n",
    "        temp[b-1] , temp[b] = temp[b], temp[b-1]\n",
    "    if m == 'r': \n",
    "        temp[b+1] , temp[b] = temp[b], temp[b+1]\n",
    "    if m == 'd': \n",
    "        temp[b+3] , temp[b] = temp[b], temp[b+3]   \n",
    "    \n",
    "    # return new state with tested move to later check if \"src == target\"\n",
    "    return temp"
   ]
  },
  {
   "cell_type": "code",
   "execution_count": 7,
   "metadata": {
    "execution": {
     "iopub.execute_input": "2020-10-19T05:07:15.951729Z",
     "iopub.status.busy": "2020-10-19T05:07:15.950653Z",
     "iopub.status.idle": "2020-10-19T05:07:15.955262Z",
     "shell.execute_reply": "2020-10-19T05:07:15.954646Z"
    },
    "papermill": {
     "duration": 0.024317,
     "end_time": "2020-10-19T05:07:15.955415",
     "exception": false,
     "start_time": "2020-10-19T05:07:15.931098",
     "status": "completed"
    },
    "tags": []
   },
   "outputs": [
    {
     "name": "stdout",
     "output_type": "stream",
     "text": [
      "Level: 0\n",
      "\n",
      "1 2 3\n",
      "  4 5\n",
      "6 7 8\n",
      "        \n",
      "Level: 1\n",
      "\n",
      "1 2 3\n",
      "4   5\n",
      "6 7 8\n",
      "        \n",
      "Level: 2\n",
      "\n",
      "1 2 3\n",
      "4 5  \n",
      "6 7 8\n",
      "        \n",
      "Success\n"
     ]
    }
   ],
   "source": [
    "#Test 1\n",
    "src = [1,2,3,-1,4,5,6,7,8]\n",
    "target = [1,2,3,4,5,-1,6,7,8]         \n",
    "       \n",
    "\n",
    "\n",
    "astar(src, target) "
   ]
  },
  {
   "cell_type": "code",
   "execution_count": 8,
   "metadata": {
    "execution": {
     "iopub.execute_input": "2020-10-19T05:07:15.990385Z",
     "iopub.status.busy": "2020-10-19T05:07:15.989579Z",
     "iopub.status.idle": "2020-10-19T05:07:15.993154Z",
     "shell.execute_reply": "2020-10-19T05:07:15.994342Z"
    },
    "papermill": {
     "duration": 0.025306,
     "end_time": "2020-10-19T05:07:15.994597",
     "exception": false,
     "start_time": "2020-10-19T05:07:15.969291",
     "status": "completed"
    },
    "tags": []
   },
   "outputs": [
    {
     "name": "stdout",
     "output_type": "stream",
     "text": [
      "Level: 0\n",
      "\n",
      "1 2 3\n",
      "  4 5\n",
      "6 7 8\n",
      "        \n",
      "Level: 1\n",
      "\n",
      "1 2 3\n",
      "6 4 5\n",
      "  7 8\n",
      "        \n",
      "Success\n"
     ]
    }
   ],
   "source": [
    "# Test 2\n",
    "src = [1,2,3,-1,4,5,6,7,8] \n",
    "target=[1,2,3,6,4,5,-1,7,8]\n",
    "\n",
    "\n",
    "\n",
    "astar(src, target)"
   ]
  },
  {
   "cell_type": "code",
   "execution_count": 9,
   "metadata": {
    "execution": {
     "iopub.execute_input": "2020-10-19T05:07:16.037986Z",
     "iopub.status.busy": "2020-10-19T05:07:16.036264Z",
     "iopub.status.idle": "2020-10-19T05:07:16.048268Z",
     "shell.execute_reply": "2020-10-19T05:07:16.049117Z"
    },
    "papermill": {
     "duration": 0.039292,
     "end_time": "2020-10-19T05:07:16.049379",
     "exception": false,
     "start_time": "2020-10-19T05:07:16.010087",
     "status": "completed"
    },
    "tags": []
   },
   "outputs": [
    {
     "name": "stdout",
     "output_type": "stream",
     "text": [
      "Level: 0\n",
      "\n",
      "1 2 3\n",
      "7 4 5\n",
      "6   8\n",
      "        \n",
      "Level: 1\n",
      "\n",
      "1 2 3\n",
      "7 4 5\n",
      "  6 8\n",
      "        \n",
      "Level: 2\n",
      "\n",
      "1 2 3\n",
      "  4 5\n",
      "7 6 8\n",
      "        \n",
      "Level: 3\n",
      "\n",
      "  2 3\n",
      "1 4 5\n",
      "7 6 8\n",
      "        \n",
      "\n",
      "1 2 3\n",
      "4   5\n",
      "7 6 8\n",
      "        \n",
      "Level: 4\n",
      "\n",
      "1 2 3\n",
      "4 6 5\n",
      "7   8\n",
      "        \n",
      "Level: 5\n",
      "\n",
      "1 2 3\n",
      "4 6 5\n",
      "  7 8\n",
      "        \n",
      "Level: 6\n",
      "\n",
      "1 2 3\n",
      "  6 5\n",
      "4 7 8\n",
      "        \n",
      "Level: 7\n",
      "\n",
      "1 2 3\n",
      "6   5\n",
      "4 7 8\n",
      "        \n",
      "Level: 8\n",
      "\n",
      "1 2 3\n",
      "6 7 5\n",
      "4   8\n",
      "        \n",
      "Level: 9\n",
      "\n",
      "1 2 3\n",
      "6 7 5\n",
      "  4 8\n",
      "        \n",
      "Level: 10\n",
      "\n",
      "1 2 3\n",
      "  7 5\n",
      "6 4 8\n",
      "        \n",
      "Level: 11\n",
      "\n",
      "  2 3\n",
      "1 7 5\n",
      "6 4 8\n",
      "        \n",
      "\n",
      "1 2 3\n",
      "7   5\n",
      "6 4 8\n",
      "        \n",
      "Level: 12\n",
      "\n",
      "2   3\n",
      "1 7 5\n",
      "6 4 8\n",
      "        \n",
      "\n",
      "1   3\n",
      "7 2 5\n",
      "6 4 8\n",
      "        \n",
      "\n",
      "1 2 3\n",
      "7 5  \n",
      "6 4 8\n",
      "        \n",
      "Level: 13\n",
      "\n",
      "2 7 3\n",
      "1   5\n",
      "6 4 8\n",
      "        \n",
      "\n",
      "  1 3\n",
      "7 2 5\n",
      "6 4 8\n",
      "        \n",
      "\n",
      "1 2 3\n",
      "7 5 8\n",
      "6 4  \n",
      "        \n",
      "Level: 14\n",
      "\n",
      "2 7 3\n",
      "1 4 5\n",
      "6   8\n",
      "        \n",
      "Level: 15\n",
      "\n",
      "2 7 3\n",
      "1 4 5\n",
      "  6 8\n",
      "        \n",
      "Level: 16\n",
      "\n",
      "2 7 3\n",
      "  4 5\n",
      "1 6 8\n",
      "        \n",
      "Level: 17\n",
      "\n",
      "  7 3\n",
      "2 4 5\n",
      "1 6 8\n",
      "        \n",
      "\n",
      "2 7 3\n",
      "4   5\n",
      "1 6 8\n",
      "        \n",
      "Level: 18\n",
      "\n",
      "2 7 3\n",
      "4 6 5\n",
      "1   8\n",
      "        \n",
      "Level: 19\n",
      "\n",
      "2 7 3\n",
      "4 6 5\n",
      "  1 8\n",
      "        \n",
      "Level: 20\n",
      "\n",
      "2 7 3\n",
      "  6 5\n",
      "4 1 8\n",
      "        \n",
      "Level: 21\n",
      "\n",
      "2 7 3\n",
      "6   5\n",
      "4 1 8\n",
      "        \n",
      "Level: 22\n",
      "\n",
      "2 7 3\n",
      "6 1 5\n",
      "4   8\n",
      "        \n",
      "Level: 23\n",
      "\n",
      "2 7 3\n",
      "6 1 5\n",
      "  4 8\n",
      "        \n",
      "Level: 24\n",
      "\n",
      "2 7 3\n",
      "  1 5\n",
      "6 4 8\n",
      "        \n",
      "Level: 25\n",
      "\n",
      "  7 3\n",
      "2 1 5\n",
      "6 4 8\n",
      "        \n",
      "Level: 26\n",
      "\n",
      "7   3\n",
      "2 1 5\n",
      "6 4 8\n",
      "        \n",
      "Level: 27\n",
      "\n",
      "7 1 3\n",
      "2   5\n",
      "6 4 8\n",
      "        \n",
      "Level: 28\n",
      "\n",
      "7 1 3\n",
      "  2 5\n",
      "6 4 8\n",
      "        \n",
      "\n",
      "7 1 3\n",
      "2 4 5\n",
      "6   8\n",
      "        \n",
      "Level: 29\n",
      "\n",
      "7 1 3\n",
      "6 2 5\n",
      "  4 8\n",
      "        \n",
      "Level: 30\n",
      "\n",
      "7 1 3\n",
      "6 2 5\n",
      "4   8\n",
      "        \n",
      "Level: 31\n",
      "\n",
      "7 1 3\n",
      "6   5\n",
      "4 2 8\n",
      "        \n",
      "\n",
      "7 1 3\n",
      "6 2 5\n",
      "4 8  \n",
      "        \n",
      "Level: 32\n",
      "\n",
      "7 1 3\n",
      "  6 5\n",
      "4 2 8\n",
      "        \n",
      "Level: 33\n",
      "\n",
      "7 1 3\n",
      "4 6 5\n",
      "  2 8\n",
      "        \n",
      "Level: 34\n",
      "\n",
      "7 1 3\n",
      "4 6 5\n",
      "2   8\n",
      "        \n",
      "Level: 35\n",
      "\n",
      "7 1 3\n",
      "4   5\n",
      "2 6 8\n",
      "        \n",
      "\n",
      "7 1 3\n",
      "4 6 5\n",
      "2 8  \n",
      "        \n",
      "Level: 36\n",
      "\n",
      "7 1 3\n",
      "  4 5\n",
      "2 6 8\n",
      "        \n",
      "Level: 37\n",
      "\n",
      "7 1 3\n",
      "2 4 5\n",
      "  6 8\n",
      "        \n",
      "Fail\n"
     ]
    }
   ],
   "source": [
    "# Test 3\n",
    "src = [1,2,3,7,4,5,6,-1,8] \n",
    "target=[1,2,3,6,4,5,-1,7,8]\n",
    "\n",
    "\n",
    "\n",
    "astar(src, target)"
   ]
  }
 ],
 "metadata": {
  "kernelspec": {
   "display_name": "Python 3",
   "language": "python",
   "name": "python3"
  },
  "language_info": {
   "codemirror_mode": {
    "name": "ipython",
    "version": 3
   },
   "file_extension": ".py",
   "mimetype": "text/x-python",
   "name": "python",
   "nbconvert_exporter": "python",
   "pygments_lexer": "ipython3",
   "version": "3.7.6"
  },
  "papermill": {
   "duration": 5.481736,
   "end_time": "2020-10-19T05:07:16.175174",
   "environment_variables": {},
   "exception": null,
   "input_path": "__notebook__.ipynb",
   "output_path": "__notebook__.ipynb",
   "parameters": {},
   "start_time": "2020-10-19T05:07:10.693438",
   "version": "2.1.0"
  }
 },
 "nbformat": 4,
 "nbformat_minor": 4
}
